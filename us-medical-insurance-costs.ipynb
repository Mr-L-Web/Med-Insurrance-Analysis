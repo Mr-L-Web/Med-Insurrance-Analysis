{
 "cells": [
  {
   "cell_type": "markdown",
   "metadata": {},
   "source": [
    "# U.S. Medical Insurance Costs"
   ]
  },
  {
   "cell_type": "code",
   "execution_count": 3,
   "metadata": {},
   "outputs": [],
   "source": [
    "import csv\n",
    "\n",
    "#set variables\n",
    "age = []\n",
    "sex = []\n",
    "bmi = []\n",
    "children =  []\n",
    "smoker = []\n",
    "region = []\n",
    "charges = []\n",
    "#import the dataset\n",
    "with open(\"insurance.csv\") as insurance_file:\n",
    "    insurance_data = csv.DictReader(insurance_file)\n",
    "    for row in insurance_data:\n",
    "        age.append(row[\"age\"])\n",
    "        sex.append(row[\"sex\"])\n",
    "        bmi.append(row[\"bmi\"])\n",
    "        children.append(row[\"children\"])\n",
    "        smoker.append(row[\"smoker\"])\n",
    "        region.append(row[\"region\"])\n",
    "        charges.append(row[\"charges\"])\n"
   ]
  },
  {
   "cell_type": "code",
   "execution_count": 24,
   "metadata": {},
   "outputs": [
    {
     "name": "stdout",
     "output_type": "stream",
     "text": [
      "The patient number by region areas are as follows: {'southwest': 324, 'southeast': 363, 'northwest': 324, 'northeast': 323}\n"
     ]
    }
   ],
   "source": [
    "#find region numbers\n",
    "\n",
    "def regionNumbers(regions):\n",
    "    region_dict = {}\n",
    "    for r in regions:\n",
    "        if r in region_dict:\n",
    "            region_dict[r] +=1\n",
    "        else:\n",
    "            region_dict[r] = 0\n",
    "    \n",
    "    return \"The patient number by region areas are as follows: \" + str(region_dict)\n",
    "    \n",
    "print(regionNumbers(region))\n",
    "\n"
   ]
  },
  {
   "cell_type": "code",
   "execution_count": 9,
   "metadata": {},
   "outputs": [
    {
     "name": "stdout",
     "output_type": "stream",
     "text": [
      "The average age for smokers is 39\n"
     ]
    }
   ],
   "source": [
    "#Average age for smokers\n",
    "\n",
    "def average_smoke_age(ages, smokers):\n",
    "    smoke_age_list = []\n",
    "    for i in range(len(ages)):\n",
    "        if smokers[i] == \"yes\":\n",
    "            smoke_age_list.append(int(ages[i]))\n",
    "\n",
    "    average = 0\n",
    "    \n",
    "    for i in smoke_age_list:\n",
    "        average += i\n",
    "\n",
    "    average = round(average / len(smoke_age_list))\n",
    "\n",
    "    return \"The average age for smokers is \" + str(average)\n",
    "\n",
    "print(average_smoke_age(age,smoker))\n",
    "    \n",
    "\n",
    "    \n"
   ]
  },
  {
   "cell_type": "code",
   "execution_count": 39,
   "metadata": {},
   "outputs": [
    {
     "name": "stdout",
     "output_type": "stream",
     "text": [
      "The average cost based on the number of children are as follows:{'0': 12366, '1': 12731, '2': 15074, '3': 15355, '4': 13851, '5': 8786}\n"
     ]
    }
   ],
   "source": [
    "#Are children more expensive\n",
    "\n",
    "def child_cost(children, cost):\n",
    "    child_dict = {}\n",
    "    #Calculate totals for number of children\n",
    "    for c in range(len(cost)):\n",
    "        if children[c] in child_dict:\n",
    "            child_dict[children[c]] += float(cost[c])\n",
    "        else:\n",
    "            child_dict[children[c]] = float(cost[c])\n",
    "\n",
    "    #Calculate Average Cost\n",
    "    for v in child_dict:\n",
    "        total = 0\n",
    "        for c in range(len(cost)):\n",
    "            if children[c] == v:\n",
    "                total +=1\n",
    "        child_dict[v] = round(child_dict[v] / total)\n",
    "\n",
    "    sort_keys = list(child_dict.keys())\n",
    "    sort_keys.sort()\n",
    "\n",
    "    sort_child_dict = {c: child_dict[c] for c in sort_keys}\n",
    "    \n",
    "    return \"The average cost based on the number of children are as follows:\" + str(sort_child_dict)\n",
    "\n",
    "print(child_cost(children, charges))\n",
    "    "
   ]
  },
  {
   "cell_type": "code",
   "execution_count": 22,
   "metadata": {},
   "outputs": [
    {
     "name": "stdout",
     "output_type": "stream",
     "text": [
      "The average cost for smokers and non-smokers are as follows:{'yes': 32050, 'no': 8434}\n"
     ]
    }
   ],
   "source": [
    "#Smoker Cost difference\n",
    "\n",
    "def smoker_cost(smoke, cost):\n",
    "    smoke_dict = {}\n",
    "\n",
    "    #calculate total cost for smokers and non smokers\n",
    "    for s in range(len(cost)):\n",
    "        if smoke[s] in smoke_dict:\n",
    "            smoke_dict[smoke[s]] += float(cost[s])\n",
    "        else:\n",
    "            smoke_dict[smoke[s]] = float(cost[s])\n",
    "\n",
    "    #calcululate average cost\n",
    "\n",
    "    for s in smoke_dict:\n",
    "        total = 0\n",
    "        for c in range(len(cost)):\n",
    "            if smoke[c] == s:\n",
    "                total +=1\n",
    "        smoke_dict[s] = round(smoke_dict[s] / total)\n",
    "\n",
    "    return \"The average cost for smokers and non-smokers are as follows:\" + str(smoke_dict)\n",
    "\n",
    "print(smoker_cost(smoker, charges))"
   ]
  },
  {
   "cell_type": "code",
   "execution_count": 16,
   "metadata": {},
   "outputs": [
    {
     "data": {
      "text/plain": [
       "'The average age for a patient with at least one child is 40'"
      ]
     },
     "execution_count": 16,
     "metadata": {},
     "output_type": "execute_result"
    }
   ],
   "source": [
    "#Average age for people with at least one child\n",
    "\n",
    "def age_child(child, ages):\n",
    "\n",
    "    age_list = []\n",
    "\n",
    "    for i in range(len(ages)):\n",
    "        if int(child[i]) >= 1:\n",
    "            age_list.append(int(ages[i]))\n",
    "\n",
    "    total = 0\n",
    "    for i in age_list:\n",
    "        total += i\n",
    "    \n",
    "    return \"The average age for a patient with at least one child is \" + str(round(total / len(age_list)))\n",
    "\n",
    "age_child(children, age)\n",
    "    \n",
    "    "
   ]
  },
  {
   "cell_type": "code",
   "execution_count": null,
   "metadata": {},
   "outputs": [],
   "source": []
  }
 ],
 "metadata": {
  "kernelspec": {
   "display_name": "Python 3 (ipykernel)",
   "language": "python",
   "name": "python3"
  },
  "language_info": {
   "codemirror_mode": {
    "name": "ipython",
    "version": 3
   },
   "file_extension": ".py",
   "mimetype": "text/x-python",
   "name": "python",
   "nbconvert_exporter": "python",
   "pygments_lexer": "ipython3",
   "version": "3.12.7"
  }
 },
 "nbformat": 4,
 "nbformat_minor": 4
}
